{
 "cells": [
  {
   "attachments": {},
   "cell_type": "markdown",
   "metadata": {},
   "source": [
    "# Commandes bash\n",
    "\n",
    "Petit passage en revue de certaines commandes du shell sur Linux\n",
    "\n",
    "## Installation du kernel Jupyter pour bash\n",
    "\n",
    "❯ pip install bash_kernel\n",
    "\n",
    "### Configuration du kernel Jupyter pour bash\n",
    "\n",
    "Il existe un kernel pour bash que l'on peut utiliser dans les notebooks, le voici : \n",
    "\n",
    "https://github.com/takluyver/bash_kernel\n",
    "\n",
    "## Pour l'instaler\n",
    "\n",
    "```bash\n",
    "python -m bash_kernel\n",
    "```\n",
    "\n",
    "## Pour le configurer\n",
    "\n",
    "```bash\n",
    "python -m bash_kernel.install\n",
    "```\n",
    "\n",
    "## Choix du kernel\n",
    "\n",
    "Click sur >> selecteur de kernel >> Selectionner un autre noyau >> Jupiter kernell >> Bash"
   ]
  },
  {
   "attachments": {},
   "cell_type": "markdown",
   "metadata": {},
   "source": [
    "## ls\n",
    "Sert à lister les documents, le contenu des dossiers."
   ]
  },
  {
   "cell_type": "code",
   "execution_count": 5,
   "metadata": {
    "vscode": {
     "languageId": "shellscript"
    }
   },
   "outputs": [
    {
     "name": "stdout",
     "output_type": "stream",
     "text": [
      "bash.ipynb             install.ipynb     \u001b[0m\u001b[01;35mrestart-kernel.png\u001b[0m\n",
      "\u001b[01;34mcreate-a-notebook_env\u001b[0m  README.md         ship-manual.ipynb\n",
      "\u001b[01;35mEngine-Started.png\u001b[0m     requirements.txt  zsh.ipynb\n"
     ]
    }
   ],
   "source": [
    "ls"
   ]
  },
  {
   "attachments": {},
   "cell_type": "markdown",
   "metadata": {},
   "source": [
    "## whoami\n",
    "\n",
    "Affiche le nom d'utilisateur actuel\n"
   ]
  },
  {
   "cell_type": "code",
   "execution_count": 6,
   "metadata": {
    "vscode": {
     "languageId": "shellscript"
    }
   },
   "outputs": [
    {
     "name": "stdout",
     "output_type": "stream",
     "text": [
      "rnek0\n"
     ]
    }
   ],
   "source": [
    "whoami"
   ]
  },
  {
   "attachments": {},
   "cell_type": "markdown",
   "metadata": {},
   "source": [
    "## who\n",
    "\n",
    "Affiche qui est connecté en ce moment"
   ]
  },
  {
   "cell_type": "code",
   "execution_count": 3,
   "metadata": {
    "vscode": {
     "languageId": "shellscript"
    }
   },
   "outputs": [
    {
     "name": "stdout",
     "output_type": "stream",
     "text": [
      "rnek0    tty1         2023-03-30 17:24 (:0)\n"
     ]
    }
   ],
   "source": [
    "who"
   ]
  },
  {
   "attachments": {},
   "cell_type": "markdown",
   "metadata": {},
   "source": [
    "## cd\n",
    "\n",
    "'Change directory' Change l'emplacement du repertoire."
   ]
  },
  {
   "attachments": {},
   "cell_type": "markdown",
   "metadata": {},
   "source": [
    "## pwd\n",
    "\n",
    "Affiche  l'endroit ou l'on est au niveau de l'arborescence des repertoires."
   ]
  },
  {
   "cell_type": "code",
   "execution_count": 4,
   "metadata": {
    "vscode": {
     "languageId": "shellscript"
    }
   },
   "outputs": [
    {
     "name": "stdout",
     "output_type": "stream",
     "text": [
      "/home/rnek0/codes/python/2_notebooks/create-a-notebook\n"
     ]
    }
   ],
   "source": [
    "pwd"
   ]
  }
 ],
 "metadata": {
  "kernelspec": {
   "display_name": "Bash",
   "language": "bash",
   "name": "bash"
  },
  "language_info": {
   "codemirror_mode": "shell",
   "file_extension": ".sh",
   "mimetype": "text/x-sh",
   "name": "bash"
  },
  "orig_nbformat": 4
 },
 "nbformat": 4,
 "nbformat_minor": 2
}
