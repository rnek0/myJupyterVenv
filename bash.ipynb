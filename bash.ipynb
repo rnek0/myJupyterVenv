{
 "cells": [
  {
   "cell_type": "markdown",
   "metadata": {},
   "source": [
    "# Commandes bash\n",
    "\n",
    "Petit passage en revue de certaines commandes du shell sur Linux\n",
    "\n",
    "## Installation du kernel Jupyter pour bash\n",
    "\n",
    "❯ pip install bash_kernel\n",
    "\n",
    "### Configuration du kernel Jupyter pour bash\n",
    "\n",
    "Il existe un kernel pour bash que l'on peut utiliser dans les notebooks, le voici : \n",
    "\n",
    "https://github.com/takluyver/bash_kernel\n",
    "\n",
    "## Pour l'instaler\n",
    "\n",
    "```bash\n",
    "python -m bash_kernel\n",
    "```\n",
    "\n",
    "## Pour le configurer\n",
    "\n",
    "```bash\n",
    "python -m bash_kernel.install\n",
    "```\n",
    "\n",
    "## Choix du kernel\n",
    "\n",
    "Click sur >> selecteur de kernel >> Selectionner un autre noyau >> Jupiter kernell >> Bash"
   ]
  },
  {
   "cell_type": "markdown",
   "metadata": {},
   "source": [
    "## ls\n",
    "Sert à lister les documents, le contenu des dossiers."
   ]
  },
  {
   "cell_type": "code",
   "execution_count": 5,
   "metadata": {},
   "outputs": [
    {
     "name": "stdout",
     "output_type": "stream",
     "text": [
      "\n",
      "\n",
      "    Répertoire : C:\\codes\\PYTHON\\1_notebooks\\myJupyterVenv\n",
      "\n",
      "\n",
      "Mode                 LastWriteTime         Length Name                                                                 \n",
      "----                 -------------         ------ ----                                                                 \n",
      "d-----        31/03/2023     17:22                .ipynb_checkpoints                                                   \n",
      "d-----        31/03/2023     17:03                myJupyterVenv_env                                                    \n",
      "-a----        31/03/2023     16:58             32 .gitignore                                                           \n",
      "-a----        31/03/2023     17:26           3486 bash.ipynb                                                           \n",
      "-a----        31/03/2023     16:58         291994 Engine-Started.png                                                   \n",
      "-a----        31/03/2023     17:12           6424 install.ipynb                                                        \n",
      "-a----        31/03/2023     16:58           5419 README.md                                                            \n",
      "-a----        31/03/2023     16:58           1813 requirements.txt                                                     \n",
      "-a----        31/03/2023     16:58         181089 restart-kernel.png                                                   \n",
      "-a----        31/03/2023     16:58          20929 ship-manual.ipynb                                                    \n",
      "-a----        31/03/2023     16:58            738 zsh.ipynb                                                            \n",
      "\n",
      "\n"
     ]
    }
   ],
   "source": [
    "ls"
   ]
  },
  {
   "cell_type": "markdown",
   "metadata": {},
   "source": [
    "## whoami\n",
    "\n",
    "Affiche le nom d'utilisateur actuel\n"
   ]
  },
  {
   "cell_type": "code",
   "execution_count": 4,
   "metadata": {},
   "outputs": [
    {
     "name": "stdout",
     "output_type": "stream",
     "text": [
      "jupiter\\tony_\n"
     ]
    }
   ],
   "source": [
    "whoami"
   ]
  },
  {
   "cell_type": "markdown",
   "metadata": {},
   "source": [
    "## who\n",
    "\n",
    "Affiche qui est connecté en ce moment"
   ]
  },
  {
   "cell_type": "code",
   "execution_count": 3,
   "metadata": {},
   "outputs": [
    {
     "name": "stdout",
     "output_type": "stream",
     "text": [
      "who : Le terme «who» n'est pas reconnu comme nom d'applet de commande, fonction, fichier de script ou programme \n",
      "exécutable. Vérifiez l'orthographe du nom, ou si un chemin d'accès existe, vérifiez que le chemin d'accès est correct \n",
      "et réessayez.\n",
      "Au caractère Ligne:2 : 1\n",
      "+ who\n",
      "+ ~~~\n",
      "    + CategoryInfo          : ObjectNotFound: (who:String) [], CommandNotFoundException\n",
      "    + FullyQualifiedErrorId : CommandNotFoundException\n",
      " \n"
     ]
    }
   ],
   "source": [
    "who"
   ]
  },
  {
   "cell_type": "markdown",
   "metadata": {},
   "source": [
    "## cd\n",
    "\n",
    "'Change directory' Change l'emplacement du repertoire."
   ]
  },
  {
   "cell_type": "markdown",
   "metadata": {},
   "source": [
    "## pwd\n",
    "\n",
    "Affiche  l'endroit ou l'on est au niveau de l'arborescence des repertoires."
   ]
  },
  {
   "cell_type": "code",
   "execution_count": 2,
   "metadata": {
    "scrolled": true
   },
   "outputs": [
    {
     "name": "stdout",
     "output_type": "stream",
     "text": [
      "\n",
      "Path                                     \n",
      "----                                     \n",
      "C:\\codes\\PYTHON\\1_notebooks\\myJupyterVenv\n",
      "\n",
      "\n",
      ". {\n",
      ">> pwd\n",
      ">> }\n",
      ">> \n",
      "\n",
      "Path                                     \n",
      "----                                     \n",
      "C:\\codes\\PYTHON\\1_notebooks\\myJupyterVenv\n",
      "\n",
      "\n"
     ]
    }
   ],
   "source": [
    "pwd"
   ]
  },
  {
   "cell_type": "code",
   "execution_count": null,
   "metadata": {},
   "outputs": [],
   "source": []
  }
 ],
 "metadata": {
  "kernelspec": {
   "display_name": "PowerShell",
   "language": "powershell",
   "name": "powershell"
  },
  "language_info": {
   "codemirror_mode": "shell",
   "file_extension": ".ps1",
   "mimetype": "text/x-sh",
   "name": "powershell"
  }
 },
 "nbformat": 4,
 "nbformat_minor": 2
}
