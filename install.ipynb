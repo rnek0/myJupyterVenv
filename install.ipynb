{
 "cells": [
  {
   "cell_type": "markdown",
   "metadata": {},
   "source": [
    "# Creation d'un notebook Jupyter sur Gnu-Linux (Achlinux)\n",
    "\n",
    "Jupyter Notebook (anciennement IPython Notebooks) est un environnement de programmation interactif basé sur le Web permettant de créer des documents Jupyter Notebook. Le terme \"notebook\" peut faire référence à de nombreuses entités différentes, adaptées au contexte, telles que l'application web Jupyter, le serveur web Jupyter Python ou le **format de document Jupyter**. \n",
    "\n",
    "Jupyter : <https://fr.wikipedia.org/wiki/Jupyter> \n",
    "\n",
    "Je suis sur une distribution Archlinux et je souhaite tester des notebooks en Python, nous allons donc créer des notebooks dans un virtualenv, puis on va dans une deuxième étape suivre ce [tuto ici](https://learn.microsoft.com/fr-fr/training/modules/python-create-run-jupyter-notebook/2-setup).  \n",
    "\n",
    "Au niveau de l'install de l'environnement de travail ce n'est pas le même cas de figure, donc je vais tout de même completer celui-ci avec mes notes.\n",
    "\n",
    "&nbsp;\n",
    "\n",
    "## Creation de notre Virtualenv.\n",
    "\n",
    "D'abord on met a jour pip et virtualenv au cas ou.\n",
    "\n",
    "```bash\n",
    "sudo -H pip3 install --upgrade pip\n",
    "pip3 install --upgrade virtualenv\n",
    "```\n",
    "\n",
    "On va créer notre repertoire de travail et se placer dedans : ```mkdir create-a-notebook && cd create-a-notebook```\n",
    "\n",
    "On crée notre environnement virtuel :\n",
    "\n",
    "```bash\n",
    "virtualenv create-a-notebook_env\n",
    "```\n",
    "\n",
    "Et on l'active\n",
    "\n",
    "```bash\n",
    "source create-a-notebook_env/bin/activate\n",
    "```\n",
    "\n",
    "Pour savoir si on est dans un virtualenv active, deux solutions : \n",
    "\n",
    "- Soit le prompt l'affiche\n",
    "- Soit *on voit le path du repertoire du virtualenv* en affichant le $PATH\n",
    "\n",
    "&nbsp;\n",
    "\n",
    "Pour sortir de l'environnement on fait simplement ```deactivate```\n",
    "\n",
    "Pour avoir un environnement cohérent, on va \"conserver\" l’état des paquets de l’environnement. Pour ce faire, on exécute\n",
    "\n",
    "```bash\n",
    "pip freeze > requirements.txt\n",
    "```\n",
    "\n",
    "Vous pouvez voir la liste des paquets installés sans le format requirements en utilisant “pip list”. Plus tard, il sera plus facile pour un autre développeur  (ou vous même, si vous avez besoin de recréer l’environnement) d’installer les paquets en utilisant les mêmes versions, cela se fait comme cec-ci:\n",
    "\n",
    "```bash\n",
    "pip install -r requirements.txt\n",
    "```\n",
    "\n",
    "On conserve donc la cohérence entre les installations et déploiements.\n",
    "\n",
    "Pour finir, on va exclure les dossiers de l’environnement virtuel en l’ajoutant à la liste des fichiers ignorés, donc dans .gitignore\n",
    "\n",
    "> Plus tard si vous voulez supprimer un environnement virtuel, supprimez juste son dossier. (Dans ce cas, ce serait rm -rf create-a-notebook_env.)\n",
    "\n",
    "&nbsp;\n",
    "\n",
    "On peut donc maintenant installer Jupiter.\n",
    "\n",
    "&nbsp;\n",
    "\n",
    "## Installation de Jupyter dans notre environnement virtualenv\n",
    "\n",
    "Avec l'environnement virtualenv activé on installe Jupyter avec **pip** (même si on utilise python3 pip dans virtualenv est toujours nommé **pip**)\n",
    "\n",
    "Donc : \n",
    "\n",
    "```bash\n",
    "pip install jupyter\n",
    "```\n",
    "\n",
    "Dans ce tuto on va se servir de [VSCodium](https://github.com/VSCodium/vscodium) et ce [plugin Jupyter](https://marketplace.visualstudio.com/items?itemName=ms-toolsai.jupyter) ainsi que le Python extension for VSCode. \n",
    "\n",
    "Pur les installer on tape sur F1 et on entre dans la barre ceci : \n",
    "\n",
    "```bash\n",
    "ext install ms-toolsai.jupyter\n",
    "```\n",
    "\n",
    "et \n",
    "\n",
    "```bash\n",
    "ext install ms-python.python\n",
    "```\n",
    "\n",
    "\n",
    "Nous avons besoin d'un **kernel** pour faire marcher le code dans le notebook, on pourrait croire qu'il faut installer **ipykernel** au niveau du virtualenv mais VSCodium ne le trouvera pas !\n",
    "\n",
    "Il faut donc sortir avec deactivate puis faire l'install du kernel avec votre compte utilisateur.\n",
    "\n",
    "```bash\n",
    "pip install ipykernel\n",
    "```\n",
    "\n",
    "On re-entre dans le virtualenv on demarre VSCode et la il trouve le kernel\n",
    "\n",
    "```bash\n",
    "source create-a-notebook_env/bin/activate\n",
    "```\n",
    "\n",
    "Le kernel est un élément essentiel, en voici un [pour zsh](https://github.com/dan-oak/zsh-jupyter-kernel) que je suis impatient de tester pour mes revisions de scripting :) Il y en a plein pour differents languages comme vous pouvez le voir ici : <https://github.com/jupyter/jupyter/wiki/Jupyter-kernels>\n",
    "\n",
    "On va recréer notre fichier requirements.txt\n",
    "\n",
    "pip freeze > requirements.txt\n",
    "\n",
    "Et voici la version de python dans notre virtualenv.\n",
    "\n",
    "```bash\n",
    "❯ python --version\n",
    "Python 3.10.10\n",
    "```\n",
    "\n",
    "Nous voila prêts pour faire tourner nos notebooks avec Python.\n",
    "\n",
    "---\n",
    "\n",
    "Happy Hacking !\n"
   ]
  },
  {
   "cell_type": "code",
   "execution_count": 3,
   "metadata": {},
   "outputs": [
    {
     "name": "stdout",
     "output_type": "stream",
     "text": [
      "give me a kernel\n"
     ]
    }
   ],
   "source": [
    "print(\"give me a kernel\")"
   ]
  },
  {
   "attachments": {},
   "cell_type": "markdown",
   "metadata": {},
   "source": [
    "# Faire de même avec Windows 10\n",
    "\n",
    "On peut faire la même chose avec win 10 mais quelques steps sont differents.  \n",
    "Par exemple, l'usage de virtualenv (les fichiers pour l'activation ne sont pas les mêmes)  \n",
    "\n",
    "Le kernel bash ne fonctionne pas, celui de powershell le fait mieux sur win 10 :D  \n",
    "\n",
    "A l'ouverture avec vscode sur win 10 il nous propose cette extension.\n",
    "\n",
    "https://marketplace.visualstudio.com/items?itemName=ms-dotnettools.dotnet-interactive-vscode  \n",
    "\n",
    "Je vous laisse quelques captures pour la forme.  \n",
    "\n",
    "**Git clone**\n",
    "\n",
    "![clone1.png](.\\captures\\clone1.png)  \n"
   ]
  },
  {
   "attachments": {},
   "cell_type": "markdown",
   "metadata": {},
   "source": [
    "Creation du **virtualenv**  \n",
    "\n",
    "  ![clone1.png](\\captures\\clone2.png)  "
   ]
  },
  {
   "attachments": {},
   "cell_type": "markdown",
   "metadata": {},
   "source": [
    "Emplacement du fichier pour l'**activation du virtualenv**  \n",
    "\n",
    "  ![clone1.png](\\captures\\clone3.png)  "
   ]
  },
  {
   "attachments": {},
   "cell_type": "markdown",
   "metadata": {},
   "source": [
    "Lancement du notebook  (python -m notebook)\n",
    "\n",
    "  ![clone1.png](\\captures\\clone4.png)  "
   ]
  },
  {
   "attachments": {},
   "cell_type": "markdown",
   "metadata": {},
   "source": [
    "Visuel du notebook dans le navigateur  \n",
    "\n",
    "  ![clone5.png](\\captures\\clone5.png \"notebooks dans le navigateur\")  "
   ]
  },
  {
   "attachments": {},
   "cell_type": "markdown",
   "metadata": {},
   "source": [
    "Affichage lorsque **le kernel n'est pas trouvé**  \n",
    "\n",
    "  ![clone6.png](\\captures\\clone6.png \"le kernel n'est pas trouvé\")  "
   ]
  },
  {
   "attachments": {},
   "cell_type": "markdown",
   "metadata": {},
   "source": [
    "Installlation du kernel bash, qui ne fonctionnera pas avec win 10  \n",
    "\n",
    "  ![clone7.png](\\captures\\clone7.png \"Installlation du kernel bash\")  \n",
    "\n",
    "  ![clone8.png](\\captures\\clone8.png \"Installlation du kernel bash\")  "
   ]
  },
  {
   "attachments": {},
   "cell_type": "markdown",
   "metadata": {},
   "source": [
    "Choix du kernell dans l'interface web  \n",
    "\n",
    "  ![clone9.png](\\captures\\clone9.png \"Choix du kernell\")  "
   ]
  },
  {
   "attachments": {},
   "cell_type": "markdown",
   "metadata": {},
   "source": [
    "On installe un kernel Powershell et on le fais tourner sur win 10  \n",
    "\n",
    "  ![clone10.png](\\captures\\clone10.png \"kernel Powershell\")  \n",
    "\n",
    "<https://github.com/vors/jupyter-powershell>"
   ]
  },
  {
   "attachments": {},
   "cell_type": "markdown",
   "metadata": {},
   "source": [
    "Finalement, avec VSCode sur Win 10 on vous propose le plugin qui va bien pour Powershell  \n",
    "\n",
    "  ![clone11.png](\\captures\\clone11.png \"kernel Powershell\")  \n",
    "\n",
    "Puis l'extension qui gère Powershell.\n",
    "  \n",
    "  ![clone12.png](\\captures\\clone12.png \"kernel Powershell\")  \n"
   ]
  },
  {
   "attachments": {},
   "cell_type": "markdown",
   "metadata": {},
   "source": [
    "Mais celle ci n'a pas l'air de faire tourner autant de kernels.  \n",
    "\n",
    "![clone13.png](\\captures\\clone13.png \"Polyglot Notebooks\")\n",
    "\n",
    "https://github.com/dotnet/interactive"
   ]
  },
  {
   "cell_type": "markdown",
   "metadata": {},
   "source": []
  },
  {
   "attachments": {},
   "cell_type": "markdown",
   "metadata": {},
   "source": [
    "Puis comme j'ai dit un peu plus haut ;)"
   ]
  },
  {
   "attachments": {},
   "cell_type": "markdown",
   "metadata": {},
   "source": [
    "Happy Hacking !"
   ]
  }
 ],
 "metadata": {
  "kernelspec": {
   "display_name": "myJupyterVenv_env",
   "language": "python",
   "name": "python3"
  },
  "language_info": {
   "codemirror_mode": {
    "name": "ipython",
    "version": 3
   },
   "file_extension": ".py",
   "mimetype": "text/x-python",
   "name": "python",
   "nbconvert_exporter": "python",
   "pygments_lexer": "ipython3",
   "version": "3.11.1"
  },
  "vscode": {
   "interpreter": {
    "hash": "27d091912b01a4e1821fde08fe045a2cdfe2a6a43aa0178e11e0e7da3eb8f3fe"
   }
  }
 },
 "nbformat": 4,
 "nbformat_minor": 2
}
